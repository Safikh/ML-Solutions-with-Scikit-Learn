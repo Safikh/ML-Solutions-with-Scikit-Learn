{
 "cells": [
  {
   "cell_type": "code",
   "execution_count": 1,
   "metadata": {},
   "outputs": [],
   "source": [
    "import gc\n",
    "import time\n",
    "\n",
    "import numpy as np\n",
    "import pandas as pd\n",
    "import matplotlib.pyplot as plt\n",
    "import seaborn as sns\n",
    "\n",
    "import sklearn\n",
    "from sklearn.model_selection import train_test_split\n",
    "from sklearn.datasets import make_classification\n",
    "from sklearn.metrics import hamming_loss\n",
    "from sklearn.preprocessing import StandardScaler\n",
    "from scipy.sparse import csr_matrix\n",
    "\n",
    "from sklearn.linear_model import SGDClassifier\n",
    "from sklearn.svm import NuSVC\n",
    "from sklearn.ensemble import GradientBoostingClassifier"
   ]
  },
  {
   "cell_type": "code",
   "execution_count": 2,
   "metadata": {},
   "outputs": [],
   "source": [
    "def generate_dataset():\n",
    "\n",
    "    print(\"Generating dataset...\")\n",
    "\n",
    "    data = sklearn.datasets.fetch_20newsgroups_vectorized(subset='all')\n",
    "\n",
    "    X, y = csr_matrix(data.data), np.array(data.target)\n",
    "\n",
    "    X_train, X_test, y_train, y_test = train_test_split(X, y, test_size=0.2, random_state=5)\n",
    "\n",
    "    gc.collect()\n",
    "\n",
    "    print(\"Dataset generated.\")\n",
    "\n",
    "    return X_train, y_train, X_test, y_test"
   ]
  },
  {
   "cell_type": "code",
   "execution_count": 3,
   "metadata": {},
   "outputs": [],
   "source": [
    "def build_and_predict(model,\n",
    "                        X_train, y_train, X_test, y_test,\n",
    "                        complexity_fn):\n",
    "    \n",
    "    model.fit(X_train, y_train)\n",
    "\n",
    "    start = time.time()\n",
    "    y_pred = model.predict(X_test)\n",
    "    prediction_latency = time.time() - start\n",
    "\n",
    "    complexity = complexity_fn(model)\n",
    "\n",
    "    performance_score = hamming_loss(y_test, y_pred)\n",
    "\n",
    "    return [complexity, prediction_latency, performance_score]"
   ]
  },
  {
   "cell_type": "code",
   "execution_count": 4,
   "metadata": {},
   "outputs": [
    {
     "name": "stdout",
     "output_type": "stream",
     "text": [
      "Generating dataset...\n",
      "Dataset generated.\n"
     ]
    }
   ],
   "source": [
    "X_train, y_train, X_test, y_test = generate_dataset()"
   ]
  },
  {
   "cell_type": "code",
   "execution_count": 5,
   "metadata": {},
   "outputs": [
    {
     "data": {
      "text/plain": [
       "((15076, 130107), (15076,), (3770, 130107), (3770,))"
      ]
     },
     "execution_count": 5,
     "metadata": {},
     "output_type": "execute_result"
    }
   ],
   "source": [
    "X_train.shape, y_train.shape, X_test.shape, y_test.shape"
   ]
  },
  {
   "cell_type": "code",
   "execution_count": 6,
   "metadata": {},
   "outputs": [],
   "source": [
    "sgd_classifier = SGDClassifier(penalty='elasticnet', alpha=0.001, tol=1e-1)\n",
    "\n",
    "def _count_nonzero_coefficients(estimator):\n",
    "    return np.count_nonzero(estimator.coef_)"
   ]
  },
  {
   "cell_type": "code",
   "execution_count": 7,
   "metadata": {},
   "outputs": [
    {
     "data": {
      "text/plain": [
       "[2472, 0.03566551208496094, 0.2946949602122016]"
      ]
     },
     "execution_count": 7,
     "metadata": {},
     "output_type": "execute_result"
    }
   ],
   "source": [
    "build_and_predict(sgd_classifier, X_train, y_train, X_test, y_test, _count_nonzero_coefficients)"
   ]
  },
  {
   "cell_type": "code",
   "execution_count": 24,
   "metadata": {},
   "outputs": [],
   "source": [
    "def plot_model_details(performance_details):\n",
    "\n",
    "    plt.figure(figsize=(10, 8))\n",
    "    plt.subplots_adjust(right=0.75)\n",
    "\n",
    "    plt.plot(\n",
    "        [row[0] for row in performance_details],\n",
    "        [row[1] for row in performance_details],\n",
    "        label='Prediction latency (s)'\n",
    "    )\n",
    "\n",
    "    plt.plot(\n",
    "        [row[0] for row in performance_details],\n",
    "        [row[2] for row in performance_details],\n",
    "        label='Performance score'\n",
    "    )\n",
    "    plt.xlabel('Complexity')\n",
    "    plt.legend(loc='best');"
   ]
  },
  {
   "cell_type": "code",
   "execution_count": 13,
   "metadata": {},
   "outputs": [],
   "source": [
    "model_perf = {}"
   ]
  },
  {
   "cell_type": "code",
   "execution_count": 14,
   "metadata": {},
   "outputs": [],
   "source": [
    "l1_ratios = [0.25, 0.5, 0.75, 0.9]\n",
    "\n",
    "model_perf['sgd'] = []\n",
    "\n",
    "for ratio in l1_ratios:\n",
    "\n",
    "    sgd_classifier = SGDClassifier(penalty='elasticnet', alpha=0.001, tol=1e-1, l1_ratio=ratio)\n",
    "    performance_details = build_and_predict(\n",
    "        sgd_classifier, X_train, y_train, X_test, y_test, _count_nonzero_coefficients\n",
    "    )\n",
    "    model_perf['sgd'].append(performance_details)"
   ]
  },
  {
   "cell_type": "code",
   "execution_count": 15,
   "metadata": {},
   "outputs": [
    {
     "data": {
      "text/plain": [
       "[[810, 0.022999286651611328, 0.33315649867374003],\n",
       " [193, 0.021996736526489258, 0.470026525198939],\n",
       " [80, 0.02595353126525879, 0.5819628647214854],\n",
       " [45, 0.023997783660888672, 0.6058355437665782]]"
      ]
     },
     "execution_count": 15,
     "metadata": {},
     "output_type": "execute_result"
    }
   ],
   "source": [
    "model_perf['sgd']"
   ]
  },
  {
   "cell_type": "code",
   "execution_count": 25,
   "metadata": {},
   "outputs": [
    {
     "data": {
      "image/png": "[encoded data removed]",
      "text/plain": [
       "<Figure size 720x576 with 1 Axes>"
      ]
     },
     "metadata": {
      "needs_background": "light"
     },
     "output_type": "display_data"
    }
   ],
   "source": [
    "plot_model_details(model_perf['sgd'])"
   ]
  },
  {
   "cell_type": "code",
   "execution_count": 22,
   "metadata": {},
   "outputs": [],
   "source": [
    "def _num_estimators(estimator):\n",
    "    return estimator.n_estimators"
   ]
  },
  {
   "cell_type": "code",
   "execution_count": 23,
   "metadata": {},
   "outputs": [
    {
     "name": "stdout",
     "output_type": "stream",
     "text": [
      "Training 3 estimators completed...\n",
      "Training 5 estimators completed...\n",
      "Training 8 estimators completed...\n",
      "Training 10 estimators completed...\n",
      "Training 12 estimators completed...\n"
     ]
    }
   ],
   "source": [
    "n_estimators = [3, 5, 8, 10, 12]\n",
    "\n",
    "model_perf['gbc'] = []\n",
    "\n",
    "for n_est in n_estimators:\n",
    "\n",
    "    gbc = GradientBoostingClassifier(n_estimators=n_est)\n",
    "    performance_details = build_and_predict(\n",
    "        gbc, X_train, y_train, X_test, y_test, _num_estimators\n",
    "    )\n",
    "    model_perf['gbc'].append(performance_details)\n",
    "    print(f'Training {n_est} estimators completed...')"
   ]
  },
  {
   "cell_type": "code",
   "execution_count": 26,
   "metadata": {},
   "outputs": [
    {
     "data": {
      "image/png": "[encoded data removed]",
      "text/plain": [
       "<Figure size 720x576 with 1 Axes>"
      ]
     },
     "metadata": {
      "needs_background": "light"
     },
     "output_type": "display_data"
    }
   ],
   "source": [
    "plot_model_details(model_perf['gbc'])"
   ]
  },
  {
   "cell_type": "code",
   "execution_count": 27,
   "metadata": {},
   "outputs": [
    {
     "data": {
      "text/plain": [
       "17247"
      ]
     },
     "execution_count": 27,
     "metadata": {},
     "output_type": "execute_result"
    }
   ],
   "source": [
    "gc.collect()"
   ]
  },
  {
   "cell_type": "code",
   "execution_count": null,
   "metadata": {},
   "outputs": [],
   "source": []
  }
 ],
 "metadata": {
  "interpreter": {
   "hash": "a5a8803176ba603454a120d2af569b11c3f41e6e81f2a81589e795246afd0d6d"
  },
  "kernelspec": {
   "display_name": "Python 3.7.6 64-bit ('base': conda)",
   "language": "python",
   "name": "python3"
  },
  "language_info": {
   "codemirror_mode": {
    "name": "ipython",
    "version": 3
   },
   "file_extension": ".py",
   "mimetype": "text/x-python",
   "name": "python",
   "nbconvert_exporter": "python",
   "pygments_lexer": "ipython3",
   "version": "3.7.6"
  },
  "orig_nbformat": 4
 },
 "nbformat": 4,
 "nbformat_minor": 2
}
