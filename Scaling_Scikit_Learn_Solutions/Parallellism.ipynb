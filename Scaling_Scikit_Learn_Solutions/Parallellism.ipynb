{
 "cells": [
  {
   "cell_type": "code",
   "execution_count": 1,
   "metadata": {},
   "outputs": [],
   "source": [
    "import time\n",
    "from joblib import Parallel, delayed"
   ]
  },
  {
   "cell_type": "code",
   "execution_count": 2,
   "metadata": {},
   "outputs": [],
   "source": [
    "def work(arg):\n",
    "    print(f'Argument received: {arg}')\n",
    "    i, j = arg\n",
    "    time.sleep(5)\n",
    "    print(f'Data merged: {i}_{j}')\n",
    "\n",
    "    return f'{i}_{j}'"
   ]
  },
  {
   "cell_type": "code",
   "execution_count": 3,
   "metadata": {},
   "outputs": [
    {
     "name": "stdout",
     "output_type": "stream",
     "text": [
      "Argument received: (2, 3)\n",
      "Data merged: 2_3\n"
     ]
    }
   ],
   "source": [
    "return_val = work((2, 3))"
   ]
  },
  {
   "cell_type": "code",
   "execution_count": 4,
   "metadata": {},
   "outputs": [
    {
     "name": "stdout",
     "output_type": "stream",
     "text": [
      "Argument received: (2, 3)\n",
      "Data merged: 2_3\n"
     ]
    },
    {
     "data": {
      "text/plain": [
       "<function joblib.parallel.delayed.<locals>.delayed_function>"
      ]
     },
     "execution_count": 4,
     "metadata": {},
     "output_type": "execute_result"
    }
   ],
   "source": [
    "return_val = delayed(work((2, 3)))\n",
    "return_val"
   ]
  },
  {
   "cell_type": "code",
   "execution_count": 5,
   "metadata": {},
   "outputs": [
    {
     "data": {
      "text/plain": [
       "('2_3', (), {})"
      ]
     },
     "execution_count": 5,
     "metadata": {},
     "output_type": "execute_result"
    }
   ],
   "source": [
    "return_val()"
   ]
  },
  {
   "cell_type": "code",
   "execution_count": 6,
   "metadata": {},
   "outputs": [
    {
     "data": {
      "text/plain": [
       "Parallel(n_jobs=1)"
      ]
     },
     "execution_count": 6,
     "metadata": {},
     "output_type": "execute_result"
    }
   ],
   "source": [
    "Parallel(n_jobs=1, verbose=1, backend='threading')"
   ]
  },
  {
   "cell_type": "code",
   "execution_count": 7,
   "metadata": {},
   "outputs": [],
   "source": [
    "arg_instances = [(1, 2), (3, 4), (5, 6), (7, 8)]"
   ]
  },
  {
   "cell_type": "code",
   "execution_count": 8,
   "metadata": {},
   "outputs": [
    {
     "name": "stderr",
     "output_type": "stream",
     "text": [
      "[Parallel(n_jobs=1)]: Using backend SequentialBackend with 1 concurrent workers.\n"
     ]
    },
    {
     "name": "stdout",
     "output_type": "stream",
     "text": [
      "Argument received: (1, 2)\n",
      "Data merged: 1_2\n",
      "Argument received: (3, 4)\n",
      "Data merged: 3_4\n",
      "Argument received: (5, 6)\n",
      "Data merged: 5_6\n",
      "Argument received: (7, 8)\n",
      "Data merged: 7_8\n"
     ]
    },
    {
     "name": "stderr",
     "output_type": "stream",
     "text": [
      "[Parallel(n_jobs=1)]: Done   4 out of   4 | elapsed:   19.9s finished\n"
     ]
    }
   ],
   "source": [
    "start_time = time.time()\n",
    "\n",
    "Parallel(\n",
    "    n_jobs=1,\n",
    "    verbose=1,\n",
    "    backend='threading'\n",
    ")(map(\n",
    "    delayed(work),\n",
    "    arg_instances\n",
    "))\n",
    "total_time = time.time() - start_time"
   ]
  },
  {
   "cell_type": "code",
   "execution_count": 9,
   "metadata": {},
   "outputs": [
    {
     "name": "stdout",
     "output_type": "stream",
     "text": [
      "Total time: 20.033724546432495\n"
     ]
    }
   ],
   "source": [
    "print(f'Total time: {total_time}')"
   ]
  },
  {
   "cell_type": "code",
   "execution_count": 10,
   "metadata": {},
   "outputs": [
    {
     "name": "stdout",
     "output_type": "stream",
     "text": [
      "Argument received: (1, 2)\n",
      "Argument received: (3, 4)\n"
     ]
    },
    {
     "name": "stderr",
     "output_type": "stream",
     "text": [
      "[Parallel(n_jobs=2)]: Using backend ThreadingBackend with 2 concurrent workers.\n"
     ]
    },
    {
     "name": "stdout",
     "output_type": "stream",
     "text": [
      "Data merged: 1_2Data merged: 3_4\n",
      "Argument received: (5, 6)\n",
      "\n",
      "Argument received: (7, 8)\n",
      "Data merged: 7_8Data merged: 5_6\n",
      "\n",
      "Total time: 10.154573917388916\n"
     ]
    },
    {
     "name": "stderr",
     "output_type": "stream",
     "text": [
      "[Parallel(n_jobs=2)]: Done   4 out of   4 | elapsed:    9.9s finished\n"
     ]
    }
   ],
   "source": [
    "start_time = time.time()\n",
    "\n",
    "Parallel(\n",
    "    n_jobs=2,\n",
    "    verbose=1,\n",
    "    backend='threading'\n",
    ")(map(\n",
    "    delayed(work),\n",
    "    arg_instances\n",
    "))\n",
    "total_time = time.time() - start_time\n",
    "print(f'Total time: {total_time}')"
   ]
  },
  {
   "cell_type": "code",
   "execution_count": 11,
   "metadata": {},
   "outputs": [
    {
     "name": "stderr",
     "output_type": "stream",
     "text": [
      "[Parallel(n_jobs=-1)]: Using backend ThreadingBackend with 8 concurrent workers.\n"
     ]
    },
    {
     "name": "stdout",
     "output_type": "stream",
     "text": [
      "Argument received: (1, 2)\n",
      "Argument received: (3, 4)\n",
      "Argument received: (5, 6)\n",
      "Argument received: (7, 8)\n",
      "Data merged: 1_2\n",
      "Data merged: 3_4Data merged: 7_8\n",
      "Data merged: 5_6\n",
      "\n",
      "Total time: 5.0912744998931885\n"
     ]
    },
    {
     "name": "stderr",
     "output_type": "stream",
     "text": [
      "[Parallel(n_jobs=-1)]: Done   4 out of   4 | elapsed:    4.9s remaining:    0.0s\n",
      "[Parallel(n_jobs=-1)]: Done   4 out of   4 | elapsed:    4.9s finished\n"
     ]
    }
   ],
   "source": [
    "start_time = time.time()\n",
    "\n",
    "Parallel(\n",
    "    n_jobs=-1,\n",
    "    verbose=1,\n",
    "    backend='threading'\n",
    ")(map(\n",
    "    delayed(work),\n",
    "    arg_instances\n",
    "))\n",
    "total_time = time.time() - start_time\n",
    "print(f'Total time: {total_time}')"
   ]
  },
  {
   "cell_type": "code",
   "execution_count": 12,
   "metadata": {},
   "outputs": [
    {
     "name": "stderr",
     "output_type": "stream",
     "text": [
      "[Parallel(n_jobs=3)]: Using backend MultiprocessingBackend with 3 concurrent workers.\n"
     ]
    }
   ],
   "source": [
    "start_time = time.time()\n",
    "\n",
    "Parallel(\n",
    "    n_jobs=3,\n",
    "    verbose=1,\n",
    "    backend='multiprocessing'\n",
    ")(map(\n",
    "    delayed(work),\n",
    "    arg_instances\n",
    "))\n",
    "total_time = time.time() - start_time\n",
    "print(f'Total time: {total_time}')"
   ]
  },
  {
   "cell_type": "code",
   "execution_count": null,
   "metadata": {},
   "outputs": [],
   "source": [
    "start_time = time.time()\n",
    "\n",
    "Parallel(\n",
    "    n_jobs=-1,\n",
    "    verbose=1,\n",
    "    backend='multiprocessing'\n",
    ")(map(\n",
    "    delayed(work),\n",
    "    arg_instances\n",
    "))\n",
    "total_time = time.time() - start_time\n",
    "print(f'Total time: {total_time}')"
   ]
  }
 ],
 "metadata": {
  "interpreter": {
   "hash": "a5a8803176ba603454a120d2af569b11c3f41e6e81f2a81589e795246afd0d6d"
  },
  "kernelspec": {
   "display_name": "Python 3.7.6 64-bit ('base': conda)",
   "language": "python",
   "name": "python3"
  },
  "language_info": {
   "codemirror_mode": {
    "name": "ipython",
    "version": 3
   },
   "file_extension": ".py",
   "mimetype": "text/x-python",
   "name": "python",
   "nbconvert_exporter": "python",
   "pygments_lexer": "ipython3",
   "version": "3.7.6"
  },
  "orig_nbformat": 4
 },
 "nbformat": 4,
 "nbformat_minor": 2
}
