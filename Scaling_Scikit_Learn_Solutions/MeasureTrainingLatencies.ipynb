{
 "cells": [
  {
   "cell_type": "code",
   "execution_count": 1,
   "metadata": {},
   "outputs": [],
   "source": [
    "import gc\n",
    "import time\n",
    "\n",
    "import numpy as np\n",
    "import pandas as pd\n",
    "import matplotlib.pyplot as plt\n",
    "import seaborn as sns\n",
    "\n",
    "import sklearn\n",
    "from sklearn.datasets import make_regression\n",
    "from sklearn.model_selection import train_test_split\n",
    "from sklearn.preprocessing import StandardScaler\n",
    "\n",
    "from sklearn.linear_model import LinearRegression, Lasso, SGDRegressor\n",
    "from sklearn.svm import SVR\n",
    "from sklearn.ensemble import RandomForestRegressor\n",
    "from sklearn.tree import DecisionTreeRegressor"
   ]
  },
  {
   "cell_type": "code",
   "execution_count": 2,
   "metadata": {},
   "outputs": [],
   "source": [
    "def generate_dataset(n_samples, n_features, noise=0.1):\n",
    "\n",
    "    print('Generating dataset...')\n",
    "\n",
    "    X, y, coef = make_regression(\n",
    "        n_samples=n_samples,\n",
    "        n_features=n_features,\n",
    "        noise=noise,\n",
    "        coef=True,\n",
    "    )\n",
    "\n",
    "    X_train, X_test, y_train, y_test = train_test_split(X, y, test_size=0.2, random_state=5)\n",
    "\n",
    "    X_scaler = StandardScaler()\n",
    "    X_train = X_scaler.fit_transform(X_train)\n",
    "    X_test = X_scaler.transform(X_test)\n",
    "\n",
    "    y_scaler = StandardScaler()\n",
    "    y_train = y_scaler.fit_transform(y_train.reshape(-1, 1)).ravel()\n",
    "    y_test = y_scaler.transform(y_test.reshape(-1, 1)).ravel()\n",
    "\n",
    "    gc.collect()\n",
    "\n",
    "    print('Dataset generated....')\n",
    "\n",
    "    return X_train, y_train, X_test, y_test"
   ]
  },
  {
   "cell_type": "code",
   "execution_count": 3,
   "metadata": {},
   "outputs": [],
   "source": [
    "def build_and_train_model(X_train, y_train, model):\n",
    "\n",
    "    training_latenices = []\n",
    "\n",
    "    for i in range(20):\n",
    "        \n",
    "        start_time = time.time()\n",
    "\n",
    "        model.fit(X_train, y_train)\n",
    "\n",
    "        training_latenices.append(time.time() - start_time)\n",
    "    \n",
    "    return training_latenices"
   ]
  },
  {
   "cell_type": "code",
   "execution_count": 4,
   "metadata": {},
   "outputs": [
    {
     "name": "stdout",
     "output_type": "stream",
     "text": [
      "Generating dataset...\n",
      "Dataset generated....\n"
     ]
    }
   ],
   "source": [
    "X_train, y_train, X_test, y_test = generate_dataset(n_samples=10000, n_features=100)"
   ]
  },
  {
   "cell_type": "code",
   "execution_count": 5,
   "metadata": {},
   "outputs": [],
   "source": [
    "linear_model = LinearRegression()\n",
    "lasso_model = Lasso(alpha=0.8)\n",
    "sgd_model = SGDRegressor(tol=1e-4,\n",
    "                            penalty='elasticnet',\n",
    "                            l1_ratio=0.25,\n",
    "                            alpha=0.01)\n",
    "sv_model = SVR(kernel='rbf', gamma='scale')\n",
    "dt_model = DecisionTreeRegressor(max_depth=10)\n",
    "rf_model = RandomForestRegressor(n_estimators=20)"
   ]
  },
  {
   "cell_type": "code",
   "execution_count": 6,
   "metadata": {},
   "outputs": [],
   "source": [
    "training_latencies_dict = {}\n",
    "model_dict = {\n",
    "    'Linear Regression': linear_model,\n",
    "    'Lasso Regression': lasso_model,\n",
    "    'SGD Regression': sgd_model,\n",
    "    'Support Vector Regression': sv_model,\n",
    "    'Decision Tree Regression': dt_model,\n",
    "    'Random Forest Regression': rf_model,\n",
    "}\n",
    "for model in model_dict:\n",
    "    training_latencies_dict[model] = build_and_train_model(X_train, y_train, model_dict[model])"
   ]
  },
  {
   "cell_type": "code",
   "execution_count": 9,
   "metadata": {},
   "outputs": [
    {
     "data": {
      "text/html": [
       "<div>\n",
       "<style scoped>\n",
       "    .dataframe tbody tr th:only-of-type {\n",
       "        vertical-align: middle;\n",
       "    }\n",
       "\n",
       "    .dataframe tbody tr th {\n",
       "        vertical-align: top;\n",
       "    }\n",
       "\n",
       "    .dataframe thead th {\n",
       "        text-align: right;\n",
       "    }\n",
       "</style>\n",
       "<table border=\"1\" class=\"dataframe\">\n",
       "  <thead>\n",
       "    <tr style=\"text-align: right;\">\n",
       "      <th></th>\n",
       "      <th>Linear Regression</th>\n",
       "      <th>Lasso Regression</th>\n",
       "      <th>SGD Regression</th>\n",
       "      <th>Support Vector Regression</th>\n",
       "      <th>Decision Tree Regression</th>\n",
       "      <th>Random Forest Regression</th>\n",
       "    </tr>\n",
       "  </thead>\n",
       "  <tbody>\n",
       "    <tr>\n",
       "      <th>0</th>\n",
       "      <td>0.032987</td>\n",
       "      <td>0.013854</td>\n",
       "      <td>0.068042</td>\n",
       "      <td>2.528559</td>\n",
       "      <td>0.593959</td>\n",
       "      <td>8.950748</td>\n",
       "    </tr>\n",
       "    <tr>\n",
       "      <th>1</th>\n",
       "      <td>0.026237</td>\n",
       "      <td>0.013630</td>\n",
       "      <td>0.067959</td>\n",
       "      <td>2.515527</td>\n",
       "      <td>0.624284</td>\n",
       "      <td>9.686201</td>\n",
       "    </tr>\n",
       "    <tr>\n",
       "      <th>2</th>\n",
       "      <td>0.023516</td>\n",
       "      <td>0.013438</td>\n",
       "      <td>0.068001</td>\n",
       "      <td>2.523121</td>\n",
       "      <td>0.621964</td>\n",
       "      <td>8.781390</td>\n",
       "    </tr>\n",
       "    <tr>\n",
       "      <th>3</th>\n",
       "      <td>0.020080</td>\n",
       "      <td>0.013985</td>\n",
       "      <td>0.067883</td>\n",
       "      <td>2.550472</td>\n",
       "      <td>0.664047</td>\n",
       "      <td>9.149338</td>\n",
       "    </tr>\n",
       "    <tr>\n",
       "      <th>4</th>\n",
       "      <td>0.021923</td>\n",
       "      <td>0.014001</td>\n",
       "      <td>0.069010</td>\n",
       "      <td>2.519270</td>\n",
       "      <td>0.611274</td>\n",
       "      <td>9.018746</td>\n",
       "    </tr>\n",
       "  </tbody>\n",
       "</table>\n",
       "</div>"
      ],
      "text/plain": [
       "   Linear Regression  Lasso Regression  SGD Regression  \\\n",
       "0           0.032987          0.013854        0.068042   \n",
       "1           0.026237          0.013630        0.067959   \n",
       "2           0.023516          0.013438        0.068001   \n",
       "3           0.020080          0.013985        0.067883   \n",
       "4           0.021923          0.014001        0.069010   \n",
       "\n",
       "   Support Vector Regression  Decision Tree Regression  \\\n",
       "0                   2.528559                  0.593959   \n",
       "1                   2.515527                  0.624284   \n",
       "2                   2.523121                  0.621964   \n",
       "3                   2.550472                  0.664047   \n",
       "4                   2.519270                  0.611274   \n",
       "\n",
       "   Random Forest Regression  \n",
       "0                  8.950748  \n",
       "1                  9.686201  \n",
       "2                  8.781390  \n",
       "3                  9.149338  \n",
       "4                  9.018746  "
      ]
     },
     "execution_count": 9,
     "metadata": {},
     "output_type": "execute_result"
    }
   ],
   "source": [
    "training_latencies_df = pd.DataFrame(training_latencies_dict)\n",
    "training_latencies_df.head()"
   ]
  },
  {
   "cell_type": "code",
   "execution_count": 11,
   "metadata": {},
   "outputs": [
    {
     "data": {
      "image/png": "[encoded data removed]",
      "text/plain": [
       "<Figure size 864x576 with 1 Axes>"
      ]
     },
     "metadata": {
      "needs_background": "light"
     },
     "output_type": "display_data"
    }
   ],
   "source": [
    "plt.figure(figsize=(12, 8))\n",
    "sns.boxplot(data=training_latencies_df)\n",
    "plt.title('Training Latencies')\n",
    "plt.xlabel('Model')\n",
    "plt.ylabel('Latency (s)')\n",
    "plt.xticks(rotation=45)\n",
    "plt.show();"
   ]
  },
  {
   "cell_type": "code",
   "execution_count": null,
   "metadata": {},
   "outputs": [],
   "source": []
  }
 ],
 "metadata": {
  "interpreter": {
   "hash": "a5a8803176ba603454a120d2af569b11c3f41e6e81f2a81589e795246afd0d6d"
  },
  "kernelspec": {
   "display_name": "Python 3.7.6 64-bit ('base': conda)",
   "language": "python",
   "name": "python3"
  },
  "language_info": {
   "codemirror_mode": {
    "name": "ipython",
    "version": 3
   },
   "file_extension": ".py",
   "mimetype": "text/x-python",
   "name": "python",
   "nbconvert_exporter": "python",
   "pygments_lexer": "ipython3",
   "version": "3.7.6"
  },
  "orig_nbformat": 4
 },
 "nbformat": 4,
 "nbformat_minor": 2
}
