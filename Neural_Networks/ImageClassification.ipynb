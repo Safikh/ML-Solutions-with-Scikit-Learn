{
 "cells": [
  {
   "cell_type": "code",
   "execution_count": 1,
   "metadata": {},
   "outputs": [],
   "source": [
    "import sklearn\n",
    "import numpy as np\n",
    "import pandas as pd\n",
    "import matplotlib.pyplot as plt\n",
    "import cv2\n",
    "import os"
   ]
  },
  {
   "cell_type": "code",
   "execution_count": 2,
   "metadata": {},
   "outputs": [],
   "source": [
    "DATASET_PATH = 'data/Lego/train/'"
   ]
  },
  {
   "cell_type": "code",
   "execution_count": 3,
   "metadata": {},
   "outputs": [
    {
     "name": "stdout",
     "output_type": "stream",
     "text": [
      "total 1916\n",
      "-rw-r--r-- 1 Safiuddin 197609 8196 Jan 12 19:24 _DS_Store\n",
      "drwxr-xr-x 1 Safiuddin 197609    0 Jan 12 19:25 11214 Bush 3M friction with Cross axle\n",
      "drwxr-xr-x 1 Safiuddin 197609    0 Jan 12 19:25 18651 Cross Axle 2M with Snap friction\n",
      "drwxr-xr-x 1 Safiuddin 197609    0 Jan 12 19:24 2357 Brick corner 1x2x2\n",
      "drwxr-xr-x 1 Safiuddin 197609    0 Jan 12 19:28 3003 Brick 2x2\n",
      "drwxr-xr-x 1 Safiuddin 197609    0 Jan 12 19:26 3004 Brick 1x2\n",
      "drwxr-xr-x 1 Safiuddin 197609    0 Jan 12 19:24 3005 Brick 1x1\n",
      "drwxr-xr-x 1 Safiuddin 197609    0 Jan 12 19:26 3022 Plate 2x2\n",
      "drwxr-xr-x 1 Safiuddin 197609    0 Jan 12 19:27 3023 Plate 1x2\n",
      "drwxr-xr-x 1 Safiuddin 197609    0 Jan 12 19:26 3024 Plate 1x1\n",
      "drwxr-xr-x 1 Safiuddin 197609    0 Jan 12 19:25 3040 Roof Tile 1x2x45deg\n",
      "drwxr-xr-x 1 Safiuddin 197609    0 Jan 12 19:27 3069 Flat Tile 1x2\n",
      "drwxr-xr-x 1 Safiuddin 197609    0 Jan 12 19:27 32123 half Bush\n",
      "drwxr-xr-x 1 Safiuddin 197609    0 Jan 12 19:26 3673 Peg 2M\n",
      "drwxr-xr-x 1 Safiuddin 197609    0 Jan 12 19:27 3713 Bush for Cross Axle\n",
      "drwxr-xr-x 1 Safiuddin 197609    0 Jan 12 19:25 3794 Plate 1X2 with 1 Knob\n",
      "drwxr-xr-x 1 Safiuddin 197609    0 Jan 12 19:27 6632 Technic Lever 3M\n"
     ]
    }
   ],
   "source": [
    "!ls -l $DATASET_PATH"
   ]
  },
  {
   "cell_type": "code",
   "execution_count": 4,
   "metadata": {},
   "outputs": [],
   "source": [
    "def load_images(path):\n",
    "\n",
    "    images_train = []\n",
    "    labels_train = []\n",
    "\n",
    "    for sub_folder in os.listdir(path):\n",
    "        fullpath = os.path.join(path, sub_folder)\n",
    "        print(fullpath)\n",
    "        if not os.path.isdir(fullpath):\n",
    "            continue\n",
    "        images = os.listdir(fullpath)\n",
    "        for image_filename in images:\n",
    "            image_fullpath = os.path.join(fullpath, image_filename)\n",
    "            if os.path.isdir(image_fullpath):\n",
    "                continue\n",
    "            img = cv2.imread(image_fullpath)\n",
    "            images_train.append(img)\n",
    "            labels_train.append(sub_folder)\n",
    "    \n",
    "    return np.array(images_train), np.array(labels_train)"
   ]
  },
  {
   "cell_type": "code",
   "execution_count": 5,
   "metadata": {},
   "outputs": [
    {
     "name": "stdout",
     "output_type": "stream",
     "text": [
      "data/Lego/train/11214 Bush 3M friction with Cross axle\n",
      "data/Lego/train/18651 Cross Axle 2M with Snap friction\n",
      "data/Lego/train/2357 Brick corner 1x2x2\n",
      "data/Lego/train/3003 Brick 2x2\n",
      "data/Lego/train/3004 Brick 1x2\n",
      "data/Lego/train/3005 Brick 1x1\n",
      "data/Lego/train/3022 Plate 2x2\n",
      "data/Lego/train/3023 Plate 1x2\n",
      "data/Lego/train/3024 Plate 1x1\n",
      "data/Lego/train/3040 Roof Tile 1x2x45deg\n",
      "data/Lego/train/3069 Flat Tile 1x2\n",
      "data/Lego/train/32123 half Bush\n",
      "data/Lego/train/3673 Peg 2M\n",
      "data/Lego/train/3713 Bush for Cross Axle\n",
      "data/Lego/train/3794 Plate 1X2 with 1 Knob\n",
      "data/Lego/train/6632 Technic Lever 3M\n",
      "data/Lego/train/_DS_Store\n"
     ]
    }
   ],
   "source": [
    "images_train, labels_train = load_images(DATASET_PATH)"
   ]
  },
  {
   "cell_type": "code",
   "execution_count": 6,
   "metadata": {},
   "outputs": [
    {
     "data": {
      "text/plain": [
       "((6379, 200, 200, 3), (6379,))"
      ]
     },
     "execution_count": 6,
     "metadata": {},
     "output_type": "execute_result"
    }
   ],
   "source": [
    "images_train.shape, labels_train.shape"
   ]
  },
  {
   "cell_type": "code",
   "execution_count": 7,
   "metadata": {},
   "outputs": [
    {
     "name": "stdout",
     "output_type": "stream",
     "text": [
      "Label: 11214 Bush 3M friction with Cross axle\n"
     ]
    },
    {
     "data": {
      "image/png": "[encoded data removed]",
      "text/plain": [
       "<Figure size 432x288 with 1 Axes>"
      ]
     },
     "metadata": {
      "needs_background": "light"
     },
     "output_type": "display_data"
    }
   ],
   "source": [
    "plt.imshow(images_train[0])\n",
    "print(f'Label: {labels_train[0]}')"
   ]
  },
  {
   "cell_type": "code",
   "execution_count": 8,
   "metadata": {},
   "outputs": [
    {
     "data": {
      "text/plain": [
       "(6379, 120000)"
      ]
     },
     "execution_count": 8,
     "metadata": {},
     "output_type": "execute_result"
    }
   ],
   "source": [
    "X = images_train.reshape(images_train.shape[0], -1)\n",
    "X.shape"
   ]
  },
  {
   "cell_type": "code",
   "execution_count": 9,
   "metadata": {},
   "outputs": [],
   "source": [
    "from sklearn.preprocessing import LabelEncoder\n",
    "le = LabelEncoder()\n",
    "y = le.fit_transform(labels_train)"
   ]
  },
  {
   "cell_type": "code",
   "execution_count": 10,
   "metadata": {},
   "outputs": [
    {
     "data": {
      "text/plain": [
       "((5103, 120000), (1276, 120000), (5103,), (1276,))"
      ]
     },
     "execution_count": 10,
     "metadata": {},
     "output_type": "execute_result"
    }
   ],
   "source": [
    "from sklearn.model_selection import train_test_split\n",
    "X_train, X_test, y_train, y_test = train_test_split(X, y, test_size=0.2, random_state=42, shuffle=True)\n",
    "X_train.shape, X_test.shape, y_train.shape, y_test.shape"
   ]
  },
  {
   "cell_type": "code",
   "execution_count": 11,
   "metadata": {},
   "outputs": [],
   "source": [
    "from sklearn.neural_network import MLPClassifier"
   ]
  },
  {
   "cell_type": "code",
   "execution_count": 12,
   "metadata": {},
   "outputs": [
    {
     "name": "stdout",
     "output_type": "stream",
     "text": [
      "Iteration 1, loss = 26.41957437\n",
      "Iteration 2, loss = 12.57498381\n",
      "Iteration 3, loss = 7.50228879\n",
      "Iteration 4, loss = 4.83209160\n",
      "Iteration 5, loss = 3.88000550\n",
      "Iteration 6, loss = 3.32084565\n",
      "Iteration 7, loss = 2.90154451\n",
      "Iteration 8, loss = 2.84915795\n",
      "Iteration 9, loss = 2.54774141\n",
      "Iteration 10, loss = 2.21986580\n",
      "Iteration 11, loss = 1.87789685\n",
      "Iteration 12, loss = 1.83322886\n",
      "Iteration 13, loss = 1.80081372\n",
      "Iteration 14, loss = 2.03171441\n",
      "Iteration 15, loss = 2.01655705\n",
      "Iteration 16, loss = 1.23238103\n",
      "Iteration 17, loss = 1.12907119\n",
      "Iteration 18, loss = 1.08427822\n"
     ]
    }
   ],
   "source": [
    "clf = MLPClassifier(\n",
    "    activation='relu',\n",
    "    hidden_layer_sizes=(100, 100, 100),\n",
    "    solver='adam',\n",
    "    verbose=True,\n",
    "    max_iter=100,\n",
    ")\n",
    "clf.fit(X_train, y_train)\n",
    "print(f'Training set score: {clf.score(X_train, y_train)}')\n",
    "print(f'Test set score: {clf.score(X_test, y_test)}')"
   ]
  },
  {
   "cell_type": "code",
   "execution_count": null,
   "metadata": {},
   "outputs": [],
   "source": []
  }
 ],
 "metadata": {
  "interpreter": {
   "hash": "a5a8803176ba603454a120d2af569b11c3f41e6e81f2a81589e795246afd0d6d"
  },
  "kernelspec": {
   "display_name": "Python 3.7.6 64-bit ('base': conda)",
   "language": "python",
   "name": "python3"
  },
  "language_info": {
   "codemirror_mode": {
    "name": "ipython",
    "version": 3
   },
   "file_extension": ".py",
   "mimetype": "text/x-python",
   "name": "python",
   "nbconvert_exporter": "python",
   "pygments_lexer": "ipython3",
   "version": "3.7.6"
  },
  "orig_nbformat": 4
 },
 "nbformat": 4,
 "nbformat_minor": 2
}
